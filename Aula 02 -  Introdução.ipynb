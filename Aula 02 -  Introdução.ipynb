{
 "cells": [
  {
   "cell_type": "code",
   "execution_count": 2,
   "metadata": {},
   "outputs": [
    {
     "name": "stdout",
     "output_type": "stream",
     "text": [
      "['False', 'None', 'True', 'and', 'as', 'assert', 'async', 'await', 'break', 'class', 'continue', 'def', 'del', 'elif', 'else', 'except', 'finally', 'for', 'from', 'global', 'if', 'import', 'in', 'is', 'lambda', 'nonlocal', 'not', 'or', 'pass', 'raise', 'return', 'try', 'while', 'with', 'yield']\n"
     ]
    }
   ],
   "source": [
    "import keyword\n",
    "\n",
    "print(keyword.kwlist)"
   ]
  },
  {
   "cell_type": "markdown",
   "metadata": {},
   "source": [
    "Exercício 02\n",
    "\n",
    "Crie um programa para receber dois valores e em seguida, exiba o valor da diferença na tela"
   ]
  },
  {
   "cell_type": "code",
   "execution_count": null,
   "metadata": {},
   "outputs": [],
   "source": [
    "num1 = 25\n",
    "\n",
    "num2 = 36\n",
    "\n",
    "sub = num1 - num2\n",
    "\n",
    "print(f'O resultado da subtração é {sub}')"
   ]
  },
  {
   "cell_type": "markdown",
   "metadata": {},
   "source": [
    "Exercício 3\n",
    "\n",
    "Crie um programa para receber dois valores e em seguida, exiba o produto entre eles."
   ]
  },
  {
   "cell_type": "code",
   "execution_count": null,
   "metadata": {},
   "outputs": [],
   "source": [
    "num1 = int(input('Digite o primeiro número: '))\n",
    "\n",
    "num2 = int(input('Digite o segundo número: '))\n",
    "\n",
    "mult = num1 * num2\n",
    "\n",
    "print(f'O resultado da multiplicação é {mult}')"
   ]
  },
  {
   "cell_type": "markdown",
   "metadata": {},
   "source": [
    "Exercício 04 \n",
    "\n",
    "Crie um programa para receber dois valores e em seguida, exiba o quociente entre eles."
   ]
  },
  {
   "cell_type": "code",
   "execution_count": null,
   "metadata": {},
   "outputs": [],
   "source": [
    "num1 = 10\n",
    "\n",
    "num2 = 5\n",
    "\n",
    "quociente = num1 / num2\n",
    "\n",
    "if num2 == 0:\n",
    "\n",
    "    print('Não é possivel realizar uma divisão por zero!')\n",
    "\n",
    "else:\n",
    "\n",
    "    print(quociente)"
   ]
  }
 ],
 "metadata": {
  "kernelspec": {
   "display_name": "Python 3",
   "language": "python",
   "name": "python3"
  },
  "language_info": {
   "codemirror_mode": {
    "name": "ipython",
    "version": 3
   },
   "file_extension": ".py",
   "mimetype": "text/x-python",
   "name": "python",
   "nbconvert_exporter": "python",
   "pygments_lexer": "ipython3",
   "version": "3.12.0"
  }
 },
 "nbformat": 4,
 "nbformat_minor": 2
}
